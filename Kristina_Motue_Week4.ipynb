{
 "cells": [
  {
   "cell_type": "code",
   "execution_count": 1,
   "metadata": {},
   "outputs": [],
   "source": [
    "import pandas as pd"
   ]
  },
  {
   "cell_type": "code",
   "execution_count": 2,
   "metadata": {},
   "outputs": [
    {
     "name": "stdout",
     "output_type": "stream",
     "text": [
      "         destination  score  hotel_rating  all-incl_hotels  \\\n",
      "0           Sardinia    8.3           3.6               41   \n",
      "1           Tenerife    7.9           3.8               38   \n",
      "2            Corsica    8.1           3.9               40   \n",
      "3            Madeira    1.9           4.3               11   \n",
      "4          Andalucia    7.8           3.7               97   \n",
      "5            Iceland    5.2           2.8                7   \n",
      "6            Algarve    8.6           4.7               32   \n",
      "7            Bahamas    8.5           2.9                5   \n",
      "8   Balearic Islands    6.3           3.5              173   \n",
      "9           Dalmatia    9.1           3.4                9   \n",
      "10               Goa    8.4           3.1                6   \n",
      "11              Bali    6.5           3.6              154   \n",
      "12         Mauritius    9.2           4.1               27   \n",
      "13            Hawaii    9.3           4.6              118   \n",
      "14            Cyprus    7.5           4.2               22   \n",
      "\n",
      "         most_visited_city  \n",
      "0                 Cagliari  \n",
      "1   Santa Cruz de Tenerife  \n",
      "2                  Ajaccio  \n",
      "3                  Funchal  \n",
      "4                   Malaga  \n",
      "5                Reykjavik  \n",
      "6                     Faro  \n",
      "7              Andros Town  \n",
      "8                    Palma  \n",
      "9                    Zadar  \n",
      "10                  Panaji  \n",
      "11           Denpasar city  \n",
      "12              Port Louis  \n",
      "13                Honolulu  \n",
      "14                 Larnaca  \n"
     ]
    }
   ],
   "source": [
    "holiday = pd.read_csv(\"Holiday.csv\")\n",
    "print(holiday)"
   ]
  },
  {
   "cell_type": "code",
   "execution_count": 3,
   "metadata": {},
   "outputs": [
    {
     "data": {
      "text/plain": [
       "(15, 5)"
      ]
     },
     "execution_count": 3,
     "metadata": {},
     "output_type": "execute_result"
    }
   ],
   "source": [
    "holiday.shape"
   ]
  },
  {
   "cell_type": "code",
   "execution_count": 4,
   "metadata": {},
   "outputs": [
    {
     "data": {
      "text/html": [
       "<div>\n",
       "<style scoped>\n",
       "    .dataframe tbody tr th:only-of-type {\n",
       "        vertical-align: middle;\n",
       "    }\n",
       "\n",
       "    .dataframe tbody tr th {\n",
       "        vertical-align: top;\n",
       "    }\n",
       "\n",
       "    .dataframe thead th {\n",
       "        text-align: right;\n",
       "    }\n",
       "</style>\n",
       "<table border=\"1\" class=\"dataframe\">\n",
       "  <thead>\n",
       "    <tr style=\"text-align: right;\">\n",
       "      <th></th>\n",
       "      <th>destination</th>\n",
       "      <th>score</th>\n",
       "      <th>hotel_rating</th>\n",
       "      <th>all-incl_hotels</th>\n",
       "      <th>most_visited_city</th>\n",
       "    </tr>\n",
       "  </thead>\n",
       "  <tbody>\n",
       "    <tr>\n",
       "      <th>2</th>\n",
       "      <td>Corsica</td>\n",
       "      <td>8.1</td>\n",
       "      <td>3.9</td>\n",
       "      <td>40</td>\n",
       "      <td>Ajaccio</td>\n",
       "    </tr>\n",
       "    <tr>\n",
       "      <th>3</th>\n",
       "      <td>Madeira</td>\n",
       "      <td>1.9</td>\n",
       "      <td>4.3</td>\n",
       "      <td>11</td>\n",
       "      <td>Funchal</td>\n",
       "    </tr>\n",
       "    <tr>\n",
       "      <th>4</th>\n",
       "      <td>Andalucia</td>\n",
       "      <td>7.8</td>\n",
       "      <td>3.7</td>\n",
       "      <td>97</td>\n",
       "      <td>Malaga</td>\n",
       "    </tr>\n",
       "    <tr>\n",
       "      <th>5</th>\n",
       "      <td>Iceland</td>\n",
       "      <td>5.2</td>\n",
       "      <td>2.8</td>\n",
       "      <td>7</td>\n",
       "      <td>Reykjavik</td>\n",
       "    </tr>\n",
       "    <tr>\n",
       "      <th>6</th>\n",
       "      <td>Algarve</td>\n",
       "      <td>8.6</td>\n",
       "      <td>4.7</td>\n",
       "      <td>32</td>\n",
       "      <td>Faro</td>\n",
       "    </tr>\n",
       "    <tr>\n",
       "      <th>7</th>\n",
       "      <td>Bahamas</td>\n",
       "      <td>8.5</td>\n",
       "      <td>2.9</td>\n",
       "      <td>5</td>\n",
       "      <td>Andros Town</td>\n",
       "    </tr>\n",
       "  </tbody>\n",
       "</table>\n",
       "</div>"
      ],
      "text/plain": [
       "  destination  score  hotel_rating  all-incl_hotels most_visited_city\n",
       "2     Corsica    8.1           3.9               40           Ajaccio\n",
       "3     Madeira    1.9           4.3               11           Funchal\n",
       "4   Andalucia    7.8           3.7               97            Malaga\n",
       "5     Iceland    5.2           2.8                7         Reykjavik\n",
       "6     Algarve    8.6           4.7               32              Faro\n",
       "7     Bahamas    8.5           2.9                5       Andros Town"
      ]
     },
     "execution_count": 4,
     "metadata": {},
     "output_type": "execute_result"
    }
   ],
   "source": [
    "holiday.iloc[2:8]"
   ]
  },
  {
   "cell_type": "code",
   "execution_count": 5,
   "metadata": {},
   "outputs": [
    {
     "data": {
      "text/plain": [
       "52.0"
      ]
     },
     "execution_count": 5,
     "metadata": {},
     "output_type": "execute_result"
    }
   ],
   "source": [
    "holiday[\"all-incl_hotels\"].mean()"
   ]
  },
  {
   "cell_type": "code",
   "execution_count": 6,
   "metadata": {},
   "outputs": [
    {
     "data": {
      "text/plain": [
       "1.9"
      ]
     },
     "execution_count": 6,
     "metadata": {},
     "output_type": "execute_result"
    }
   ],
   "source": [
    "holiday[\"score\"].min()"
   ]
  },
  {
   "cell_type": "code",
   "execution_count": 7,
   "metadata": {},
   "outputs": [
    {
     "data": {
      "text/html": [
       "<div>\n",
       "<style scoped>\n",
       "    .dataframe tbody tr th:only-of-type {\n",
       "        vertical-align: middle;\n",
       "    }\n",
       "\n",
       "    .dataframe tbody tr th {\n",
       "        vertical-align: top;\n",
       "    }\n",
       "\n",
       "    .dataframe thead th {\n",
       "        text-align: right;\n",
       "    }\n",
       "</style>\n",
       "<table border=\"1\" class=\"dataframe\">\n",
       "  <thead>\n",
       "    <tr style=\"text-align: right;\">\n",
       "      <th></th>\n",
       "      <th>destination</th>\n",
       "      <th>score</th>\n",
       "      <th>hotel_rating</th>\n",
       "      <th>all-incl_hotels</th>\n",
       "      <th>most_visited_city</th>\n",
       "    </tr>\n",
       "  </thead>\n",
       "  <tbody>\n",
       "    <tr>\n",
       "      <th>3</th>\n",
       "      <td>Madeira</td>\n",
       "      <td>1.9</td>\n",
       "      <td>4.3</td>\n",
       "      <td>11</td>\n",
       "      <td>Funchal</td>\n",
       "    </tr>\n",
       "  </tbody>\n",
       "</table>\n",
       "</div>"
      ],
      "text/plain": [
       "  destination  score  hotel_rating  all-incl_hotels most_visited_city\n",
       "3     Madeira    1.9           4.3               11           Funchal"
      ]
     },
     "execution_count": 7,
     "metadata": {},
     "output_type": "execute_result"
    }
   ],
   "source": [
    "holiday.loc[holiday.score == 1.9]"
   ]
  },
  {
   "cell_type": "code",
   "execution_count": 8,
   "metadata": {},
   "outputs": [
    {
     "data": {
      "text/plain": [
       "9.3"
      ]
     },
     "execution_count": 8,
     "metadata": {},
     "output_type": "execute_result"
    }
   ],
   "source": [
    "holiday[\"score\"].max()"
   ]
  },
  {
   "cell_type": "code",
   "execution_count": 9,
   "metadata": {},
   "outputs": [
    {
     "data": {
      "text/html": [
       "<div>\n",
       "<style scoped>\n",
       "    .dataframe tbody tr th:only-of-type {\n",
       "        vertical-align: middle;\n",
       "    }\n",
       "\n",
       "    .dataframe tbody tr th {\n",
       "        vertical-align: top;\n",
       "    }\n",
       "\n",
       "    .dataframe thead th {\n",
       "        text-align: right;\n",
       "    }\n",
       "</style>\n",
       "<table border=\"1\" class=\"dataframe\">\n",
       "  <thead>\n",
       "    <tr style=\"text-align: right;\">\n",
       "      <th></th>\n",
       "      <th>destination</th>\n",
       "      <th>score</th>\n",
       "      <th>hotel_rating</th>\n",
       "      <th>all-incl_hotels</th>\n",
       "      <th>most_visited_city</th>\n",
       "    </tr>\n",
       "  </thead>\n",
       "  <tbody>\n",
       "    <tr>\n",
       "      <th>13</th>\n",
       "      <td>Hawaii</td>\n",
       "      <td>9.3</td>\n",
       "      <td>4.6</td>\n",
       "      <td>118</td>\n",
       "      <td>Honolulu</td>\n",
       "    </tr>\n",
       "  </tbody>\n",
       "</table>\n",
       "</div>"
      ],
      "text/plain": [
       "   destination  score  hotel_rating  all-incl_hotels most_visited_city\n",
       "13      Hawaii    9.3           4.6              118          Honolulu"
      ]
     },
     "execution_count": 9,
     "metadata": {},
     "output_type": "execute_result"
    }
   ],
   "source": [
    "holiday.loc[holiday.score == 9.3]"
   ]
  },
  {
   "cell_type": "code",
   "execution_count": 10,
   "metadata": {},
   "outputs": [
    {
     "name": "stdout",
     "output_type": "stream",
     "text": [
      "         destination  score  hotel_rating  all-incl_hotels  \\\n",
      "0           Sardinia    8.3           3.6               41   \n",
      "1           Tenerife    7.9           3.8               38   \n",
      "2            Corsica    8.1           3.9               40   \n",
      "3            Madeira    1.9           4.3               11   \n",
      "4          Andalucia    7.8           3.7               97   \n",
      "6            Algarve    8.6           4.7               32   \n",
      "8   Balearic Islands    6.3           3.5              173   \n",
      "11              Bali    6.5           3.6              154   \n",
      "12         Mauritius    9.2           4.1               27   \n",
      "13            Hawaii    9.3           4.6              118   \n",
      "14            Cyprus    7.5           4.2               22   \n",
      "\n",
      "         most_visited_city  \n",
      "0                 Cagliari  \n",
      "1   Santa Cruz de Tenerife  \n",
      "2                  Ajaccio  \n",
      "3                  Funchal  \n",
      "4                   Malaga  \n",
      "6                     Faro  \n",
      "8                    Palma  \n",
      "11           Denpasar city  \n",
      "12              Port Louis  \n",
      "13                Honolulu  \n",
      "14                 Larnaca  \n"
     ]
    }
   ],
   "source": [
    "more_than9_allincl = holiday[\"all-incl_hotels\"] > 9\n",
    "print(holiday[more_than9_allincl])"
   ]
  },
  {
   "cell_type": "code",
   "execution_count": 11,
   "metadata": {},
   "outputs": [
    {
     "name": "stdout",
     "output_type": "stream",
     "text": [
      "   destination  score  hotel_rating  all-incl_hotels most_visited_city\n",
      "0     Sardinia    8.3           3.6               41          Cagliari\n",
      "2      Corsica    8.1           3.9               40           Ajaccio\n",
      "6      Algarve    8.6           4.7               32              Faro\n",
      "7      Bahamas    8.5           2.9                5       Andros Town\n",
      "9     Dalmatia    9.1           3.4                9             Zadar\n",
      "10         Goa    8.4           3.1                6            Panaji\n",
      "12   Mauritius    9.2           4.1               27        Port Louis\n",
      "13      Hawaii    9.3           4.6              118          Honolulu\n"
     ]
    }
   ],
   "source": [
    "score_above8 = holiday[\"score\"] > 8\n",
    "score_filter = holiday[score_above8]\n",
    "print(score_filter)"
   ]
  },
  {
   "cell_type": "code",
   "execution_count": 12,
   "metadata": {},
   "outputs": [
    {
     "name": "stdout",
     "output_type": "stream",
     "text": [
      "  destination  score  hotel_rating  all-incl_hotels most_visited_city\n",
      "3     Madeira    1.9           4.3               11           Funchal\n"
     ]
    }
   ],
   "source": [
    "score_below2 = holiday[\"score\"] < 2\n",
    "ScoreFilter = holiday[score_below2]\n",
    "print(ScoreFilter)"
   ]
  },
  {
   "cell_type": "code",
   "execution_count": 13,
   "metadata": {},
   "outputs": [
    {
     "name": "stdout",
     "output_type": "stream",
     "text": [
      "         destination  score  hotel_rating  all-incl_hotels  \\\n",
      "0           Sardinia    8.3           3.6               41   \n",
      "1           Tenerife    7.9           3.8               38   \n",
      "2            Corsica    8.1           3.9               40   \n",
      "4          Andalucia    7.8           3.7               97   \n",
      "5            Iceland    5.2           2.8                7   \n",
      "6            Algarve    8.6           4.7               32   \n",
      "7            Bahamas    8.5           2.9                5   \n",
      "8   Balearic Islands    6.3           3.5              173   \n",
      "9           Dalmatia    9.1           3.4                9   \n",
      "10               Goa    8.4           3.1                6   \n",
      "11              Bali    6.5           3.6              154   \n",
      "12         Mauritius    9.2           4.1               27   \n",
      "13            Hawaii    9.3           4.6              118   \n",
      "14            Cyprus    7.5           4.2               22   \n",
      "\n",
      "         most_visited_city  \n",
      "0                 Cagliari  \n",
      "1   Santa Cruz de Tenerife  \n",
      "2                  Ajaccio  \n",
      "4                   Malaga  \n",
      "5                Reykjavik  \n",
      "6                     Faro  \n",
      "7              Andros Town  \n",
      "8                    Palma  \n",
      "9                    Zadar  \n",
      "10                  Panaji  \n",
      "11           Denpasar city  \n",
      "12              Port Louis  \n",
      "13                Honolulu  \n",
      "14                 Larnaca  \n"
     ]
    }
   ],
   "source": [
    "holiday.drop([3], axis=0, inplace=True)\n",
    "print(holiday)"
   ]
  },
  {
   "cell_type": "code",
   "execution_count": 14,
   "metadata": {},
   "outputs": [
    {
     "data": {
      "text/html": [
       "<div>\n",
       "<style scoped>\n",
       "    .dataframe tbody tr th:only-of-type {\n",
       "        vertical-align: middle;\n",
       "    }\n",
       "\n",
       "    .dataframe tbody tr th {\n",
       "        vertical-align: top;\n",
       "    }\n",
       "\n",
       "    .dataframe thead th {\n",
       "        text-align: right;\n",
       "    }\n",
       "</style>\n",
       "<table border=\"1\" class=\"dataframe\">\n",
       "  <thead>\n",
       "    <tr style=\"text-align: right;\">\n",
       "      <th></th>\n",
       "      <th>score</th>\n",
       "      <th>all-incl_hotels</th>\n",
       "    </tr>\n",
       "  </thead>\n",
       "  <tbody>\n",
       "    <tr>\n",
       "      <th>score</th>\n",
       "      <td>1.00000</td>\n",
       "      <td>-0.30938</td>\n",
       "    </tr>\n",
       "    <tr>\n",
       "      <th>all-incl_hotels</th>\n",
       "      <td>-0.30938</td>\n",
       "      <td>1.00000</td>\n",
       "    </tr>\n",
       "  </tbody>\n",
       "</table>\n",
       "</div>"
      ],
      "text/plain": [
       "                   score  all-incl_hotels\n",
       "score            1.00000         -0.30938\n",
       "all-incl_hotels -0.30938          1.00000"
      ]
     },
     "execution_count": 14,
     "metadata": {},
     "output_type": "execute_result"
    }
   ],
   "source": [
    "holiday[['score','all-incl_hotels']].corr()"
   ]
  },
  {
   "cell_type": "code",
   "execution_count": 15,
   "metadata": {},
   "outputs": [
    {
     "data": {
      "text/plain": [
       "Text(0.5, 1.0, 'correlation between feedback score of destinations and number of all-inclusive hotels')"
      ]
     },
     "execution_count": 15,
     "metadata": {},
     "output_type": "execute_result"
    },
    {
     "data": {
      "image/png": "[encoded data removed]",
      "text/plain": [
       "<Figure size 432x288 with 1 Axes>"
      ]
     },
     "metadata": {
      "needs_background": "light"
     },
     "output_type": "display_data"
    }
   ],
   "source": [
    "holiday.plot.scatter(x=\"score\", y=\"all-incl_hotels\").set_title(\"correlation between feedback score of destinations and number of all-inclusive hotels\")"
   ]
  },
  {
   "cell_type": "code",
   "execution_count": 16,
   "metadata": {},
   "outputs": [
    {
     "data": {
      "text/plain": [
       "<AxesSubplot:xlabel='destination'>"
      ]
     },
     "execution_count": 16,
     "metadata": {},
     "output_type": "execute_result"
    },
    {
     "data": {
      "image/png": "[encoded data removed]",
      "text/plain": [
       "<Figure size 432x288 with 1 Axes>"
      ]
     },
     "metadata": {
      "needs_background": "light"
     },
     "output_type": "display_data"
    }
   ],
   "source": [
    "holiday.groupby(\"destination\").mean().plot.bar()"
   ]
  },
  {
   "cell_type": "code",
   "execution_count": 17,
   "metadata": {},
   "outputs": [
    {
     "data": {
      "text/plain": [
       "<AxesSubplot:xlabel='destination'>"
      ]
     },
     "execution_count": 17,
     "metadata": {},
     "output_type": "execute_result"
    },
    {
     "data": {
      "image/png": "[encoded data removed]",
      "text/plain": [
       "<Figure size 432x288 with 1 Axes>"
      ]
     },
     "metadata": {
      "needs_background": "light"
     },
     "output_type": "display_data"
    }
   ],
   "source": [
    "score_filter.plot(\"destination\", \"score\")"
   ]
  },
  {
   "cell_type": "code",
   "execution_count": 18,
   "metadata": {},
   "outputs": [
    {
     "data": {
      "text/html": [
       "<div>\n",
       "<style scoped>\n",
       "    .dataframe tbody tr th:only-of-type {\n",
       "        vertical-align: middle;\n",
       "    }\n",
       "\n",
       "    .dataframe tbody tr th {\n",
       "        vertical-align: top;\n",
       "    }\n",
       "\n",
       "    .dataframe thead th {\n",
       "        text-align: right;\n",
       "    }\n",
       "</style>\n",
       "<table border=\"1\" class=\"dataframe\">\n",
       "  <thead>\n",
       "    <tr style=\"text-align: right;\">\n",
       "      <th></th>\n",
       "      <th>destination</th>\n",
       "      <th>score</th>\n",
       "      <th>hotel_rating</th>\n",
       "      <th>all-incl_hotels</th>\n",
       "      <th>most_visited_city</th>\n",
       "    </tr>\n",
       "  </thead>\n",
       "  <tbody>\n",
       "    <tr>\n",
       "      <th>13</th>\n",
       "      <td>Hawaii</td>\n",
       "      <td>9.3</td>\n",
       "      <td>4.6</td>\n",
       "      <td>118</td>\n",
       "      <td>Honolulu</td>\n",
       "    </tr>\n",
       "    <tr>\n",
       "      <th>12</th>\n",
       "      <td>Mauritius</td>\n",
       "      <td>9.2</td>\n",
       "      <td>4.1</td>\n",
       "      <td>27</td>\n",
       "      <td>Port Louis</td>\n",
       "    </tr>\n",
       "    <tr>\n",
       "      <th>9</th>\n",
       "      <td>Dalmatia</td>\n",
       "      <td>9.1</td>\n",
       "      <td>3.4</td>\n",
       "      <td>9</td>\n",
       "      <td>Zadar</td>\n",
       "    </tr>\n",
       "    <tr>\n",
       "      <th>6</th>\n",
       "      <td>Algarve</td>\n",
       "      <td>8.6</td>\n",
       "      <td>4.7</td>\n",
       "      <td>32</td>\n",
       "      <td>Faro</td>\n",
       "    </tr>\n",
       "    <tr>\n",
       "      <th>7</th>\n",
       "      <td>Bahamas</td>\n",
       "      <td>8.5</td>\n",
       "      <td>2.9</td>\n",
       "      <td>5</td>\n",
       "      <td>Andros Town</td>\n",
       "    </tr>\n",
       "    <tr>\n",
       "      <th>10</th>\n",
       "      <td>Goa</td>\n",
       "      <td>8.4</td>\n",
       "      <td>3.1</td>\n",
       "      <td>6</td>\n",
       "      <td>Panaji</td>\n",
       "    </tr>\n",
       "    <tr>\n",
       "      <th>0</th>\n",
       "      <td>Sardinia</td>\n",
       "      <td>8.3</td>\n",
       "      <td>3.6</td>\n",
       "      <td>41</td>\n",
       "      <td>Cagliari</td>\n",
       "    </tr>\n",
       "    <tr>\n",
       "      <th>2</th>\n",
       "      <td>Corsica</td>\n",
       "      <td>8.1</td>\n",
       "      <td>3.9</td>\n",
       "      <td>40</td>\n",
       "      <td>Ajaccio</td>\n",
       "    </tr>\n",
       "    <tr>\n",
       "      <th>1</th>\n",
       "      <td>Tenerife</td>\n",
       "      <td>7.9</td>\n",
       "      <td>3.8</td>\n",
       "      <td>38</td>\n",
       "      <td>Santa Cruz de Tenerife</td>\n",
       "    </tr>\n",
       "    <tr>\n",
       "      <th>4</th>\n",
       "      <td>Andalucia</td>\n",
       "      <td>7.8</td>\n",
       "      <td>3.7</td>\n",
       "      <td>97</td>\n",
       "      <td>Malaga</td>\n",
       "    </tr>\n",
       "    <tr>\n",
       "      <th>14</th>\n",
       "      <td>Cyprus</td>\n",
       "      <td>7.5</td>\n",
       "      <td>4.2</td>\n",
       "      <td>22</td>\n",
       "      <td>Larnaca</td>\n",
       "    </tr>\n",
       "    <tr>\n",
       "      <th>11</th>\n",
       "      <td>Bali</td>\n",
       "      <td>6.5</td>\n",
       "      <td>3.6</td>\n",
       "      <td>154</td>\n",
       "      <td>Denpasar city</td>\n",
       "    </tr>\n",
       "    <tr>\n",
       "      <th>8</th>\n",
       "      <td>Balearic Islands</td>\n",
       "      <td>6.3</td>\n",
       "      <td>3.5</td>\n",
       "      <td>173</td>\n",
       "      <td>Palma</td>\n",
       "    </tr>\n",
       "    <tr>\n",
       "      <th>5</th>\n",
       "      <td>Iceland</td>\n",
       "      <td>5.2</td>\n",
       "      <td>2.8</td>\n",
       "      <td>7</td>\n",
       "      <td>Reykjavik</td>\n",
       "    </tr>\n",
       "  </tbody>\n",
       "</table>\n",
       "</div>"
      ],
      "text/plain": [
       "         destination  score  hotel_rating  all-incl_hotels  \\\n",
       "13            Hawaii    9.3           4.6              118   \n",
       "12         Mauritius    9.2           4.1               27   \n",
       "9           Dalmatia    9.1           3.4                9   \n",
       "6            Algarve    8.6           4.7               32   \n",
       "7            Bahamas    8.5           2.9                5   \n",
       "10               Goa    8.4           3.1                6   \n",
       "0           Sardinia    8.3           3.6               41   \n",
       "2            Corsica    8.1           3.9               40   \n",
       "1           Tenerife    7.9           3.8               38   \n",
       "4          Andalucia    7.8           3.7               97   \n",
       "14            Cyprus    7.5           4.2               22   \n",
       "11              Bali    6.5           3.6              154   \n",
       "8   Balearic Islands    6.3           3.5              173   \n",
       "5            Iceland    5.2           2.8                7   \n",
       "\n",
       "         most_visited_city  \n",
       "13                Honolulu  \n",
       "12              Port Louis  \n",
       "9                    Zadar  \n",
       "6                     Faro  \n",
       "7              Andros Town  \n",
       "10                  Panaji  \n",
       "0                 Cagliari  \n",
       "2                  Ajaccio  \n",
       "1   Santa Cruz de Tenerife  \n",
       "4                   Malaga  \n",
       "14                 Larnaca  \n",
       "11           Denpasar city  \n",
       "8                    Palma  \n",
       "5                Reykjavik  "
      ]
     },
     "execution_count": 18,
     "metadata": {},
     "output_type": "execute_result"
    }
   ],
   "source": [
    "holiday.sort_values(\"score\",ascending=False)"
   ]
  },
  {
   "cell_type": "code",
   "execution_count": 19,
   "metadata": {},
   "outputs": [
    {
     "name": "stdout",
     "output_type": "stream",
     "text": [
      "   destination  score\n",
      "0     Sardinia    8.3\n",
      "2      Corsica    8.1\n",
      "6      Algarve    8.6\n",
      "7      Bahamas    8.5\n",
      "9     Dalmatia    9.1\n",
      "10         Goa    8.4\n",
      "12   Mauritius    9.2\n",
      "13      Hawaii    9.3\n"
     ]
    },
    {
     "data": {
      "text/plain": [
       "Text(0.5, 1.0, 'destinations with the highest score')"
      ]
     },
     "execution_count": 19,
     "metadata": {},
     "output_type": "execute_result"
    },
    {
     "data": {
      "image/png": "[encoded data removed]",
      "text/plain": [
       "<Figure size 432x288 with 1 Axes>"
      ]
     },
     "metadata": {
      "needs_background": "light"
     },
     "output_type": "display_data"
    }
   ],
   "source": [
    "Holiday = holiday[[\"destination\", \"score\"]]\n",
    "score_above8 = Holiday[\"score\"] > 8\n",
    "score_Filter = Holiday[score_above8]\n",
    "print(score_Filter)\n",
    "sorted_score = score_Filter.sort_values(\"score\",ascending=False)\n",
    "sorted_score.plot(\"destination\", \"score\").set_title(\"destinations with the highest score\")"
   ]
  },
  {
   "cell_type": "code",
   "execution_count": 20,
   "metadata": {},
   "outputs": [
    {
     "name": "stdout",
     "output_type": "stream",
     "text": [
      "         destination  score\n",
      "0           Sardinia    8.3\n",
      "1           Tenerife    7.9\n",
      "2            Corsica    8.1\n",
      "4          Andalucia    7.8\n",
      "5            Iceland    5.2\n",
      "6            Algarve    8.6\n",
      "7            Bahamas    8.5\n",
      "8   Balearic Islands    6.3\n",
      "9           Dalmatia    9.1\n",
      "10               Goa    8.4\n",
      "11              Bali    6.5\n",
      "12         Mauritius    9.2\n",
      "13            Hawaii    9.3\n",
      "14            Cyprus    7.5\n"
     ]
    },
    {
     "data": {
      "text/plain": [
       "Text(0.5, 1.0, 'all destinations and the score')"
      ]
     },
     "execution_count": 20,
     "metadata": {},
     "output_type": "execute_result"
    },
    {
     "data": {
      "image/png": "[encoded data removed]",
      "text/plain": [
       "<Figure size 432x288 with 1 Axes>"
      ]
     },
     "metadata": {
      "needs_background": "light"
     },
     "output_type": "display_data"
    }
   ],
   "source": [
    "print(Holiday)\n",
    "Holiday.plot(\"destination\", \"score\").set_title(\"all destinations and the score\")"
   ]
  },
  {
   "cell_type": "code",
   "execution_count": null,
   "metadata": {},
   "outputs": [],
   "source": []
  }
 ],
 "metadata": {
  "kernelspec": {
   "display_name": "Python 3",
   "language": "python",
   "name": "python3"
  },
  "language_info": {
   "codemirror_mode": {
    "name": "ipython",
    "version": 3
   },
   "file_extension": ".py",
   "mimetype": "text/x-python",
   "name": "python",
   "nbconvert_exporter": "python",
   "pygments_lexer": "ipython3",
   "version": "3.8.5"
  }
 },
 "nbformat": 4,
 "nbformat_minor": 4
}
